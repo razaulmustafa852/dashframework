{
 "cells": [
  {
   "cell_type": "code",
   "execution_count": 18,
   "metadata": {},
   "outputs": [
    {
     "data": {
      "application/vnd.jupyter.widget-view+json": {
       "model_id": "16b93608125b4d379214259a3c6dcc4a",
       "version_major": 2,
       "version_minor": 0
      },
      "text/plain": [
       "interactive(children=(Dropdown(description='Mobility', options=('driving', 'static'), value='driving'), Dropdo…"
      ]
     },
     "metadata": {},
     "output_type": "display_data"
    },
    {
     "data": {
      "text/plain": [
       "<function __main__.interactive_contol(Mobility, Column, Total_user, User_no, Algorithm, Target)>"
      ]
     },
     "execution_count": 18,
     "metadata": {},
     "output_type": "execute_result"
    }
   ],
   "source": [
    "import numpy as np\n",
    "import pandas as pd\n",
    "import seaborn as sns\n",
    "from scipy import stats\n",
    "import matplotlib.pyplot as plt\n",
    "from ipywidgets import *\n",
    "import warnings\n",
    "warnings.simplefilter(action='ignore', category=Warning)\n",
    "%matplotlib inline\n",
    "from google.colab import drive\n",
    "\n",
    "#drive.mount('/content/drive')\n",
    "df = pd.read_csv(\"DEMOMSWIM3 - all_5g.csv\")\n",
    "#df= pd.read_csv(\"/content/drive/My Drive/Colab Notebooks/Demo/xx.csv\")\n",
    "#df = pd.read_csv(\"xx.csv\")\n",
    "\n",
    "df = df.rename(columns={'rtt_qos': 'Rtt', 'tp_qos': 'Throughput', 'p_qos': 'Packets'})\n",
    "\n",
    "def interactive_contol(Mobility, Column, Total_user, User_no , Algorithm, Target):\n",
    "    t= Mobility\n",
    "    c= Column\n",
    "    u= User_no\n",
    "    a=Algorithm\n",
    "    #a2=Algorithm2\n",
    "    tr=Target\n",
    "    if a=='Rate Based':\n",
    "        case1= df[(df['algorithm_used']=='conventional')]\n",
    "        case2= df[(df['algorithm_used']=='exponential')]\n",
    "        a1='Conventional'\n",
    "        a2='Exponential'\n",
    "    elif a=='Buffer Based':\n",
    "        case1= df[(df['algorithm_used']=='bba')]\n",
    "        case2= df[(df['algorithm_used']=='logistic')]\n",
    "        a1='BBA'\n",
    "        a2='Logistic'\n",
    "    else:\n",
    "        case1= df[(df['algorithm_used']=='arbiter')]\n",
    "        case2= df[(df['algorithm_used']=='elastic')]\n",
    "        a1='Arbiter'\n",
    "        a2='Elastic'\n",
    "    \n",
    "    case1_final = case1[( case1['column']==c) & ( case1['type']==t) & ( case1['user_no']==u) ]\n",
    "    case2_final = case2[( case2['column']==c) & ( case2['type']==t) & ( case2['user_no']==u) ]\n",
    "    #print()\n",
    "    #print()\n",
    "    \n",
    "    plt.style.use('classic')\n",
    "    fig = plt.figure(figsize=(10,5))\n",
    "    with plt.style.context('Solarize_Light2'):\n",
    "        fig.set_facecolor('white')\n",
    "        plt.rcParams['axes.facecolor'] = 'white'\n",
    "        \n",
    "        plt.plot(case1_final['intSeg'], case1_final[tr], label=a1)\n",
    "        plt.plot(case2_final['intSeg'], case2_final[tr], label=a2, linestyle='--', color='orange')\n",
    "        #plt.title('Bandwidth: 0.5 - 3 Mbps', fontsize=12)\n",
    "        \n",
    "        plt.xlabel('Segments (2 sec)', fontsize=15, color='black')\n",
    "        plt.ylabel(tr, fontsize=15, color='black')\n",
    "        plt.legend(loc='best',frameon=False)\n",
    "        # Draw grid lines with red color and dashed style\n",
    "        plt.grid(axis='y', c='#D3D3D3')\n",
    "        plt.grid(axis='x', c='#D3D3D3')\n",
    "        plt.tick_params(axis='x',  colors='black')\n",
    "        plt.tick_params(axis='y', colors='black')\n",
    "\n",
    "    #plt.savefig('RTT/buffered_5_4MBPS.eps', format='eps')      \n",
    "    plt.show()\n",
    "    \n",
    "\n",
    "interact(interactive_contol, Mobility=['driving','static'], Column=[1,2,8 , 9, 10, 11],Total_user=[2,3], User_no=[1,2,3], Algorithm=['Rate Based','Hybrid', 'Buffer Based' ], Target=['P1203', 'Rtt', 'Throughput', 'Packets'])\n"
   ]
  },
  {
   "cell_type": "code",
   "execution_count": null,
   "metadata": {},
   "outputs": [],
   "source": []
  }
 ],
 "metadata": {
  "kernelspec": {
   "display_name": "Python 3",
   "language": "python",
   "name": "python3"
  },
  "language_info": {
   "codemirror_mode": {
    "name": "ipython",
    "version": 3
   },
   "file_extension": ".py",
   "mimetype": "text/x-python",
   "name": "python",
   "nbconvert_exporter": "python",
   "pygments_lexer": "ipython3",
   "version": "3.7.6"
  }
 },
 "nbformat": 4,
 "nbformat_minor": 4
}
