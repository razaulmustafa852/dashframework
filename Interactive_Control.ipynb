{
 "cells": [
  {
   "cell_type": "code",
   "execution_count": 1,
   "metadata": {},
   "outputs": [],
   "source": [
    "import numpy as np\n",
    "import pandas as pd\n",
    "import seaborn as sns\n",
    "from scipy import stats\n",
    "import matplotlib.pyplot as plt\n",
    "from ipywidgets import *\n",
    "import warnings\n",
    "warnings.simplefilter(action='ignore', category=Warning)\n",
    "%matplotlib inline\n",
    "from google.colab import drive"
   ]
  },
  {
   "cell_type": "code",
   "execution_count": 13,
   "metadata": {},
   "outputs": [],
   "source": [
    "df = pd.read_csv(\"DEMOFINAL - Sheet1.csv\")\n",
    "df = df.rename(columns={'rtt_qos': 'persegment_RTT', 'tp_qos': 'Throughput', 'p_qos': 'Packets'})"
   ]
  },
  {
   "cell_type": "code",
   "execution_count": 14,
   "metadata": {},
   "outputs": [
    {
     "data": {
      "text/plain": [
       "Index(['intExpID', 'type', 'column', 'case', 'total_users', 'user_no',\n",
       "       'intSeg', 'intArr', 'intDel', 'intSta', 'intRep', 'intDelRate',\n",
       "       'intActRate', 'intByteSize', 'floatBuf', 'algorithm_used', 'seg_Dur',\n",
       "       'width', 'height', 'resolutions', 'play_Pos', 'RTT', 'Clae', 'Duanmu',\n",
       "       'Yin', 'Yu', 'P1203', 'persegment_RTT', 'Throughput', 'Packets'],\n",
       "      dtype='object')"
      ]
     },
     "execution_count": 14,
     "metadata": {},
     "output_type": "execute_result"
    }
   ],
   "source": [
    "df.columns"
   ]
  },
  {
   "cell_type": "code",
   "execution_count": 15,
   "metadata": {},
   "outputs": [],
   "source": [
    "def interactive_contol(Mobility, Column, Total_users, User_no , Algorithm, Target):\n",
    "    t= Mobility\n",
    "    c= Column\n",
    "    u= User_no\n",
    "    a=Algorithm\n",
    "    tr= Target\n",
    "    tu= Total_users\n",
    "    \n",
    "    if a=='Rate Based':\n",
    "        case1= df[(df['algorithm_used']=='conventional')]\n",
    "        case2= df[(df['algorithm_used']=='exponential')]\n",
    "        a1='Conventional'\n",
    "        a2='Exponential'\n",
    "    elif a=='Buffer Based':\n",
    "        case1= df[(df['algorithm_used']=='bba')]\n",
    "        case2= df[(df['algorithm_used']=='logistic')]\n",
    "        a1='BBA'\n",
    "        a2='Logistic'\n",
    "    else:\n",
    "        case1= df[(df['algorithm_used']=='arbiter')]\n",
    "        case2= df[(df['algorithm_used']=='elastic')]\n",
    "        a1='Arbiter +'\n",
    "        a2='Elastic'\n",
    "    \n",
    "    case1_final = case1[( case1['column']==c) & ( case1['type']==t) & ( case1['user_no']==u) & ( case1['total_users']==tu)]\n",
    "    case2_final = case2[( case2['column']==c) & ( case2['type']==t) & ( case2['user_no']==u) & ( case2['total_users']==tu)]\n",
    "    \n",
    "    if c==8 and t=='driving':\n",
    "        title = '0.5 - 3 Mbps';\n",
    "    elif c==10 and t=='driving':\n",
    "        title = '6 - 14 Mbps';\n",
    "    elif c==1 and t=='driving':\n",
    "        title = '38.26 - 10.33 Mbps';\n",
    "    elif c==2 and t=='driving':\n",
    "        title = '29.33 - 10.55 Mbps';\n",
    "    elif c==4 and t=='static':\n",
    "        title = '72.42 - 9 Mbps';\n",
    "    elif c==5 and t=='static':\n",
    "        title = '70 - 20 Mbps';  \n",
    "    elif c==7 and t=='static':\n",
    "        title = '4 - 7.6 Mbps';\n",
    "    elif c==9 and t=='static':\n",
    "        title = '0.5 - 6 Mbps';\n",
    "    elif c==11 and t=='static':\n",
    "        title = '8 - 57 Mbps';    \n",
    "    else:\n",
    "        title='Unknown Case'\n",
    "    \n",
    "    plt.style.use('classic')\n",
    "    fig = plt.figure(figsize=(10,5))\n",
    "    with plt.style.context('Solarize_Light2'):\n",
    "        fig.set_facecolor('white')\n",
    "        plt.rcParams['axes.facecolor'] = 'white'\n",
    "        plt.plot(case1_final['intSeg'], case1_final[tr], label=a1)\n",
    "        plt.plot(case2_final['intSeg'], case2_final[tr], label=a2, linestyle='--', color='orange')\n",
    "        plt.title(title, fontsize=12)\n",
    "        plt.xlabel('Segments (2 sec)', fontsize=12, color='black')\n",
    "        plt.ylabel(tr, fontsize=12, color='black')\n",
    "        plt.legend(loc='best',frameon=False)\n",
    "        plt.grid(axis='y', c='#D3D3D3')\n",
    "        plt.grid(axis='x', c='#D3D3D3')\n",
    "        plt.tick_params(axis='x',  colors='black')\n",
    "        plt.tick_params(axis='y', colors='black')\n",
    "    plt.show()\n",
    "    \n",
    "\n"
   ]
  },
  {
   "cell_type": "code",
   "execution_count": 16,
   "metadata": {},
   "outputs": [
    {
     "data": {
      "application/vnd.jupyter.widget-view+json": {
       "model_id": "d0b90716fe104406a978804779894609",
       "version_major": 2,
       "version_minor": 0
      },
      "text/plain": [
       "interactive(children=(Dropdown(description='Mobility', options=('driving', 'static'), value='driving'), Dropdo…"
      ]
     },
     "metadata": {},
     "output_type": "display_data"
    },
    {
     "data": {
      "text/plain": [
       "<function __main__.interactive_contol>"
      ]
     },
     "execution_count": 16,
     "metadata": {},
     "output_type": "execute_result"
    }
   ],
   "source": [
    "interact(interactive_contol, Mobility=['driving','static'], Column=[1,2,4,5,7,8,9,10,11],Total_users=[2,3], User_no=[1,2,3], Algorithm=['Rate Based','Hybrid', 'Buffer Based' ], Target=['Clae', 'Duanmu',\n",
    "       'Yin', 'Yu','P1203', 'persegment_RTT', 'Throughput', 'Packets','intArr','intDel', 'intSta', 'intDelRate',\n",
    "       'intActRate', 'intByteSize', 'floatBuf'])\n"
   ]
  },
  {
   "cell_type": "code",
   "execution_count": null,
   "metadata": {},
   "outputs": [],
   "source": []
  },
  {
   "cell_type": "code",
   "execution_count": null,
   "metadata": {},
   "outputs": [],
   "source": []
  }
 ],
 "metadata": {
  "kernelspec": {
   "display_name": "Python 3",
   "language": "python",
   "name": "python3"
  },
  "language_info": {
   "codemirror_mode": {
    "name": "ipython",
    "version": 3
   },
   "file_extension": ".py",
   "mimetype": "text/x-python",
   "name": "python",
   "nbconvert_exporter": "python",
   "pygments_lexer": "ipython3",
   "version": "3.7.6"
  }
 },
 "nbformat": 4,
 "nbformat_minor": 4
}
