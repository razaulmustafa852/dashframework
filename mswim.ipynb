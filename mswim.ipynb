{
 "cells": [
  {
   "cell_type": "code",
   "execution_count": 2,
   "metadata": {},
   "outputs": [],
   "source": [
    "import matplotlib.pyplot as plt\n",
    "plt.style.use('classic')\n",
    "%matplotlib inline\n",
    "import numpy as np\n",
    "import pandas as pd\n",
    "import seaborn as sns\n",
    "from scipy import stats"
   ]
  },
  {
   "cell_type": "code",
   "execution_count": 13,
   "metadata": {},
   "outputs": [],
   "source": [
    "df = pd.read_csv(\"DEMOMSWIM3 - all_5g.csv\")"
   ]
  },
  {
   "cell_type": "code",
   "execution_count": 16,
   "metadata": {},
   "outputs": [],
   "source": [
    "## column (8,10) presents case driving whereas column (9,11) presents case static and competition is 2\n",
    "## ( 0.5 - 3 ), ( 6 - 14 ) Mbps bandwidth for column 8 and 10 respectively\n",
    "## ( 0.5 - 6 ), ( 8 - 57 ) Mbps bandwidth for column 9 and 11 respectively"
   ]
  },
  {
   "cell_type": "code",
   "execution_count": 18,
   "metadata": {},
   "outputs": [],
   "source": [
    "## When competition is 3 for case driving , column 1 has bandwidht ( 0.5 - 3 )Mbps, and column 2 has (6 - 14 ) Mbps"
   ]
  },
  {
   "cell_type": "code",
   "execution_count": 19,
   "metadata": {},
   "outputs": [],
   "source": [
    "## When competition is 3 for case static , column 1 has bandwidht ( 0.5 - 6 )Mbps, and column 2 has (8 - 57) Mbps"
   ]
  },
  {
   "cell_type": "code",
   "execution_count": 20,
   "metadata": {},
   "outputs": [],
   "source": [
    "## \"type\" present case Static and Driving"
   ]
  },
  {
   "cell_type": "code",
   "execution_count": 50,
   "metadata": {},
   "outputs": [
    {
     "data": {
      "text/plain": [
       "Index(['total', 'intExpID', 'type', 'column', 'total_users', 'user_no',\n",
       "       'intSeg', 'intArr', 'intDel', 'intSta', 'intRep', 'intDelRate',\n",
       "       'intActRate', 'intByteSize', 'floatBuf', 'algorithm_used', 'seg_Dur',\n",
       "       'width', 'height', 'resolutions', 'play_Pos', 'RTT', 'Clae', 'Duanmu',\n",
       "       'Yin', 'Yu', 'P1203', 'rtt_qos', 'tp_qos', 'p_qos'],\n",
       "      dtype='object')"
      ]
     },
     "execution_count": 50,
     "metadata": {},
     "output_type": "execute_result"
    }
   ],
   "source": [
    "df.columns"
   ]
  },
  {
   "cell_type": "code",
   "execution_count": 51,
   "metadata": {},
   "outputs": [],
   "source": [
    "#Select algorithm, such as (bba, logistic, arbiter, elastic, conventional, exponential)"
   ]
  },
  {
   "cell_type": "code",
   "execution_count": 52,
   "metadata": {},
   "outputs": [],
   "source": [
    "algorithm = df[(df['algorithm_used']=='bba') ]"
   ]
  },
  {
   "cell_type": "code",
   "execution_count": 53,
   "metadata": {},
   "outputs": [
    {
     "data": {
      "text/plain": [
       "1200"
      ]
     },
     "execution_count": 53,
     "metadata": {},
     "output_type": "execute_result"
    }
   ],
   "source": [
    "algorithm.shape[0]"
   ]
  },
  {
   "cell_type": "code",
   "execution_count": 54,
   "metadata": {},
   "outputs": [],
   "source": [
    "# Select competition of users i.e, 2 or 3"
   ]
  },
  {
   "cell_type": "code",
   "execution_count": 55,
   "metadata": {},
   "outputs": [],
   "source": [
    "total_users = algorithm[(algorithm['total_users']== 2) ]"
   ]
  },
  {
   "cell_type": "code",
   "execution_count": 56,
   "metadata": {},
   "outputs": [
    {
     "data": {
      "text/plain": [
       "480"
      ]
     },
     "execution_count": 56,
     "metadata": {},
     "output_type": "execute_result"
    }
   ],
   "source": [
    "total_users.shape[0]"
   ]
  },
  {
   "cell_type": "code",
   "execution_count": 57,
   "metadata": {},
   "outputs": [],
   "source": [
    "#Select user to plot, either 1 or 2 , as I selected 2 users competition"
   ]
  },
  {
   "cell_type": "code",
   "execution_count": 58,
   "metadata": {},
   "outputs": [],
   "source": [
    "user_no = total_users[(total_users['user_no']== 1) ]"
   ]
  },
  {
   "cell_type": "code",
   "execution_count": 59,
   "metadata": {},
   "outputs": [
    {
     "data": {
      "text/plain": [
       "240"
      ]
     },
     "execution_count": 59,
     "metadata": {},
     "output_type": "execute_result"
    }
   ],
   "source": [
    "user_no.shape[0]"
   ]
  },
  {
   "cell_type": "code",
   "execution_count": 60,
   "metadata": {},
   "outputs": [],
   "source": [
    "#select case, static or dynamic"
   ]
  },
  {
   "cell_type": "code",
   "execution_count": 61,
   "metadata": {},
   "outputs": [],
   "source": [
    "case = user_no[(user_no['type']== 'static') ]"
   ]
  },
  {
   "cell_type": "code",
   "execution_count": 62,
   "metadata": {},
   "outputs": [
    {
     "data": {
      "text/plain": [
       "120"
      ]
     },
     "execution_count": 62,
     "metadata": {},
     "output_type": "execute_result"
    }
   ],
   "source": [
    "case.shape[0]"
   ]
  },
  {
   "cell_type": "code",
   "execution_count": 63,
   "metadata": {},
   "outputs": [],
   "source": [
    "# I selected column 9, 0.5 - 6 Mbps"
   ]
  },
  {
   "cell_type": "code",
   "execution_count": 64,
   "metadata": {},
   "outputs": [],
   "source": [
    "bandwith_case = case[(case['column']== 9) ]"
   ]
  },
  {
   "cell_type": "code",
   "execution_count": 65,
   "metadata": {},
   "outputs": [
    {
     "data": {
      "text/plain": [
       "60"
      ]
     },
     "execution_count": 65,
     "metadata": {},
     "output_type": "execute_result"
    }
   ],
   "source": [
    "bandwith_case.shape[0]"
   ]
  },
  {
   "cell_type": "code",
   "execution_count": 71,
   "metadata": {},
   "outputs": [
    {
     "data": {
      "image/png": "[encoded data removed]",
      "text/plain": [
       "<Figure size 432x288 with 1 Axes>"
      ]
     },
     "metadata": {},
     "output_type": "display_data"
    }
   ],
   "source": [
    "fig = plt.figure()\n",
    "\n",
    "\n",
    "with plt.style.context('Solarize_Light2'):\n",
    "    fig.set_facecolor('white')\n",
    "    plt.rcParams['axes.facecolor'] = 'white'\n",
    "    plt.plot(bandwith_case['intSeg'], bandwith_case['P1203'], label='BBA')\n",
    "    #plt.plot(logistic_df_8['intSeg'], logistic_df_8['rtt_qos'], label='Logistic',linestyle='--', color='orange')\n",
    "    #plt.title('Bandwidth: 0.5 - 3 Mbps', fontsize=12)\n",
    "    plt.xlabel('Segments (2 sec)', fontsize=12, color='black')\n",
    "    plt.ylabel('P1203', fontsize=12, color='black')\n",
    "    plt.legend(frameon=False)\n",
    "    # Draw grid lines with red color and dashed style\n",
    "    plt.grid(axis='y', c='#D3D3D3')\n",
    "    plt.grid(axis='x', c='#D3D3D3')\n",
    "    plt.tick_params(axis='x', colors='black')\n",
    "    plt.tick_params(axis='y', colors='black')\n",
    "\n",
    "#plt.savefig('RTT/buffered_5_4MBPS.eps', format='eps')      \n",
    "plt.show()"
   ]
  },
  {
   "cell_type": "code",
   "execution_count": null,
   "metadata": {},
   "outputs": [],
   "source": []
  }
 ],
 "metadata": {
  "kernelspec": {
   "display_name": "Python 3",
   "language": "python",
   "name": "python3"
  },
  "language_info": {
   "codemirror_mode": {
    "name": "ipython",
    "version": 3
   },
   "file_extension": ".py",
   "mimetype": "text/x-python",
   "name": "python",
   "nbconvert_exporter": "python",
   "pygments_lexer": "ipython3",
   "version": "3.7.6"
  }
 },
 "nbformat": 4,
 "nbformat_minor": 4
}
